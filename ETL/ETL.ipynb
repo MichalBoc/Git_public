{
 "cells": [
  {
   "cell_type": "code",
   "execution_count": null,
   "metadata": {},
   "outputs": [],
   "source": [
    "#data transfer between unrelated databases (from trino to oracle in this example)\n",
    "import trino\n",
    "import easygui\n",
    "import pandas as pd\n",
    "import cx_Oracle\n",
    "from datetime import datetime\n",
    "import time\n",
    "from tqdm import tqdm\n",
    "import os\n",
    "import warnings\n",
    "warnings.filterwarnings(\"ignore\") \n",
    "\n",
    "#variables\n",
    "start_time = datetime.now()\n",
    "today_date = start_time.strftime(\"%Y-%m-%d__%H_%M_%S\")\n",
    "global_path = os.getcwd() + '\\\\' #directory with all the files: LOAD_LOG, BAD_LOG, extract_query\n",
    "print('Start: ' + start_time.strftime(\"%Y-%m-%d %H:%M:%S\"))\n",
    "\n"
   ]
  },
  {
   "cell_type": "code",
   "execution_count": null,
   "metadata": {},
   "outputs": [],
   "source": [
    "#connecting to target_base:\n",
    "\n",
    "pass_target_base = easygui.passwordbox(\"target_base password: \")\n",
    "\n",
    "#variables below to fill in\n",
    "USERNAME = ''\n",
    "HOST = ''\n",
    "PORT = ''\n",
    "SID = ''\n",
    "\n",
    "con_target_base = cx_Oracle.connect(f'{USERNAME}/{pass_target_base}@{HOST}:{PORT}/{SID}')\n",
    "cursor_target_base = con_target_base.cursor()\n",
    "\n",
    "#number of rows before data insert\n",
    "cursor_target_base.execute('SELECT COUNT(*) FROM target_table')\n",
    "pre_rows_nbr = cursor_target_base.fetchone()[0]\n",
    "\n",
    "#headers download for bad_log\n",
    "df_target_base = pd.read_sql(\"select * from target_table where rownum = 0\", con_target_base)\n",
    "columns_df_target_base = df_target_base.columns.to_list()\n",
    "\n",
    "#max date from target table, to load only increment from extract table\n",
    "cursor_target_base.execute('SELECT max(date_field) FROM target_table')\n",
    "max_date_target_table = cursor_target_base.fetchone()[0]\n",
    "\n"
   ]
  },
  {
   "cell_type": "code",
   "execution_count": null,
   "metadata": {},
   "outputs": [],
   "source": [
    "#connecting to extract_base\n",
    "\n",
    "login_extract_base = easygui.enterbox(\"extract_base login: \")\n",
    "password_extract_base = easygui.passwordbox(\"extract_base password: \")\n",
    "\n",
    "con_extract_base = trino.dbapi.connect(host='', port='', http_scheme='', auth=trino.auth.BasicAuthentication(login_extract_base, password_extract_base))#, verify=False/True)\n",
    "cursor_extract_base = con_extract_base.cursor()\n",
    "\n"
   ]
  },
  {
   "cell_type": "code",
   "execution_count": null,
   "metadata": {},
   "outputs": [],
   "source": [
    "#downloading data from extract_base to variable data_to_transfer\n",
    "print('Start downloading data from extract_base')\n",
    "extract_base_sql_path = global_path + 'extract_query.sql' #this file contains extract data query\n",
    "with open(extract_base_sql_path,'r') as file:\n",
    "    sel_extract_base = file.read()\n",
    "\n",
    "sel_extract_base = sel_extract_base.format(\"'\"+str(max_date_target_table)+\"'\") #max data from target table before data insert\n",
    "\n",
    "cursor_extract_base.execute(sel_extract_base)\n",
    "data_to_transfer = cursor_extract_base.fetchall()\n",
    "\n",
    "rows_number_extract_base = len(data_to_transfer)\n",
    "print(str(rows_number_extract_base) + ' rows were downloaded from extract_base')\n",
    "\n"
   ]
  },
  {
   "cell_type": "code",
   "execution_count": null,
   "metadata": {},
   "outputs": [],
   "source": [
    "#insert data into target_base\n",
    "print('Starting data insert to target_base')\n",
    "bad_list = []\n",
    "cnt = 0\n",
    "\n",
    "list_of_fields = ':1'\n",
    "for i in range(2,len(data_to_transfer[0])+1):\n",
    "    list_of_fields = list_of_fields + ',:' + str(i)\n",
    "\n",
    "for row in tqdm(data_to_transfer, desc = 'Progress', unit = 'iter'):\n",
    "    try:\n",
    "        cursor_target_base.execute('INSERT INTO target_table VALUES ({})'.format(list_of_fields), row)\n",
    "    except:\n",
    "        bad_list.append(row)\n",
    "    \n",
    "    cnt += 1\n",
    "    if cnt%1000 == 0:\n",
    "        con_target_base.commit()\n",
    "\n",
    "#before the first insertion of data, the table in target_database must be created. It must have the same columns and data types as the query result from extract_base\n",
    "cursor_target_base.execute('SELECT COUNT(*) FROM target_table')\n",
    "post_rows_bnr = cursor_target_base.fetchone()[0]\n",
    "print('Data inserted into target_table')\n",
    "\n"
   ]
  },
  {
   "cell_type": "code",
   "execution_count": null,
   "metadata": {},
   "outputs": [],
   "source": [
    "con_target_base.commit()\n",
    "con_target_base.close()\n",
    "con_extract_base.close()\n",
    "\n"
   ]
  },
  {
   "cell_type": "code",
   "execution_count": null,
   "metadata": {},
   "outputs": [],
   "source": [
    "#creation of logs\n",
    "print('Logs are being created')\n",
    "end_time = datetime.now()\n",
    "execution_time = round((end_time - start_time).total_seconds() / 60,0)\n",
    "\n",
    "log_text = \"At the day \" + \\\n",
    "    str(start_time.strftime('%Y-%m-%d %H:%M:%S')) + \\\n",
    "    \" from extract_base have been extracted \" + \\\n",
    "    str(rows_number_extract_base) + \\\n",
    "    \" rows. Into target_table have been inerted \" + \\\n",
    "    str(post_rows_bnr - pre_rows_nbr) +\\\n",
    "    ' rows in ' +\\\n",
    "    str(execution_time) +\\\n",
    "    ' minutes. To BAD file ' +\\\n",
    "    str(len(bad_list)) +\\\n",
    "    ' rows were inserted.\\n'\n",
    "\n",
    "load_log_path = global_path + 'LOAD_LOG.txt'\n",
    "with open(load_log_path,'a') as file:\n",
    "    file.write(log_text)\n",
    "\n",
    "\n",
    "#bad log\n",
    "bad_log_path = global_path + 'BAD_LOG_'+ str(today_date) + '.txt'\n",
    "bad_list.insert(0, columns_df_target_base) #header with column names\n",
    "if len(bad_list) > 1:\n",
    "    for bad in bad_list:\n",
    "        with open(bad_log_path,'a') as file:\n",
    "            file.write(str(bad)+'\\n')\n",
    "\n",
    "print('End. Check logs.')\n",
    "print('Window will close on 5 seconds')\n",
    "\n",
    "time.sleep(5)"
   ]
  }
 ],
 "metadata": {
  "kernelspec": {
   "display_name": "32 bit",
   "language": "python",
   "name": "venv32"
  },
  "language_info": {
   "codemirror_mode": {
    "name": "ipython",
    "version": 3
   },
   "file_extension": ".py",
   "mimetype": "text/x-python",
   "name": "python",
   "nbconvert_exporter": "python",
   "pygments_lexer": "ipython3",
   "version": "3.10.7 (tags/v3.10.7:6cc6b13, Sep  5 2022, 13:51:36) [MSC v.1933 32 bit (Intel)]"
  },
  "orig_nbformat": 4,
  "vscode": {
   "interpreter": {
    "hash": "9d534d8bff7e7407ce96d1efaa9049922d08b099bcd76221d42aa8fe90ba4136"
   }
  }
 },
 "nbformat": 4,
 "nbformat_minor": 2
}
