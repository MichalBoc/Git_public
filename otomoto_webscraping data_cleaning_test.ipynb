{
 "cells": [
  {
   "cell_type": "code",
   "execution_count": null,
   "metadata": {},
   "outputs": [],
   "source": [
    "import pandas as pd\n",
    "import openpyxl\n",
    "import warnings\n",
    "warnings.filterwarnings(\"ignore\")\n",
    "\n",
    "pd.set_option('display.max_columns', None)\n",
    "pd.set_option('display.max_rows', 20)"
   ]
  },
  {
   "cell_type": "code",
   "execution_count": null,
   "metadata": {},
   "outputs": [],
   "source": [
    "pre_cleaning_df = pd.read_excel('otomoto_v2.xlsx')\n",
    "cols_to_drop = ['Homologacja ciężarowa','Spalanie W Cyklu Mieszanym','Wartość wykupu','Liczba pozostałych rat','Opłata początkowa','Miesięczna rata','lub do (przebieg km)','Okres gwarancji producenta',\n",
    "                'VAT marża','Gwarancja dealerska (w cenie)','Możliwość finansowania','Numer rejestracyjny pojazdu','Spalanie Poza Miastem','Emisja CO2','Spalanie W Mieście']\n",
    "pre_cleaning_df.drop(cols_to_drop, axis=1, inplace= True)"
   ]
  },
  {
   "cell_type": "code",
   "execution_count": null,
   "metadata": {},
   "outputs": [],
   "source": [
    "post_cleaning_df = pd.read_excel('otomoto_v2_data_cleaning.xlsx')"
   ]
  },
  {
   "cell_type": "code",
   "execution_count": null,
   "metadata": {},
   "outputs": [],
   "source": [
    "df_inner = pd.merge(pre_cleaning_df, post_cleaning_df, on = 'Link', how = 'inner')"
   ]
  },
  {
   "cell_type": "code",
   "execution_count": null,
   "metadata": {},
   "outputs": [],
   "source": [
    "#returns 0/1 df indicating differences between pre and post cleaning tables\n",
    "def total_compare(df_to_analyze = df_inner):\n",
    "    \n",
    "    cols = pre_cleaning_df.columns.to_list()\n",
    "    cols.remove('Link')\n",
    "    df_cols = pd.DataFrame(columns=cols)\n",
    " \n",
    "    df_rows = df_to_analyze['Link']\n",
    " \n",
    "    df_empty = pd.concat([df_rows,df_cols],axis=1)\n",
    "    df_empty.set_index('Link', inplace=True)\n",
    " \n",
    "    nulls = ['nan','NaT']\n",
    " \n",
    "    for id,row in df_empty.iterrows():\n",
    "        for col in cols:\n",
    "            old_col = str(col)+'_x'\n",
    "            new_col = str(col)+'_y'\n",
    " \n",
    "            old_val = df_inner[df_inner['Link'] == id][old_col].iloc[0]\n",
    "            new_val = df_inner[df_inner['Link'] == id][new_col].iloc[0]\n",
    " \n",
    "            if old_val != new_val and not(str(old_val) in nulls and str(new_val) in nulls):\n",
    "                df_empty.loc[id,col] = 1\n",
    "            else:\n",
    "                df_empty.loc[id,col] = 0\n",
    " \n",
    "    df_empty.loc['TOTAL_COL'] = df_empty.sum()\n",
    "    df_empty['TOTAL_ROW'] = df_empty.sum(axis=1)\n",
    " \n",
    "    return df_empty\n"
   ]
  },
  {
   "cell_type": "code",
   "execution_count": null,
   "metadata": {},
   "outputs": [],
   "source": [
    "result_df = total_compare()"
   ]
  },
  {
   "cell_type": "code",
   "execution_count": null,
   "metadata": {},
   "outputs": [],
   "source": [
    "result_df.to_excel('otomoto_v2_data_cleaning_test.xlsx', index = True)"
   ]
  },
  {
   "cell_type": "code",
   "execution_count": null,
   "metadata": {},
   "outputs": [],
   "source": [
    "#returns df for one ID (link) with columns where there were differences\n",
    "def both_compare_id(ID):\n",
    "    cols = pre_cleaning_df.columns.to_list()\n",
    "    cols.remove('Link')\n",
    " \n",
    "    data = df_inner[df_inner['Link'] == ID]\n",
    " \n",
    "    df = pd.DataFrame(index=['old','new'])\n",
    "    nulls = ['nan','NaT']\n",
    " \n",
    "    for col in cols:\n",
    "        old = str(col)+'_x'\n",
    "        new = str(col)+'_y'\n",
    "        if data[old].iloc[0] != data[new].iloc[0] and not(str(data[old].iloc[0]) in nulls and str(data[new].iloc[0]) in nulls):\n",
    "            old_val = df_inner[df_inner['Link'] == ID][old].iloc[0]\n",
    "            new_val = df_inner[df_inner['Link'] == ID][new].iloc[0]\n",
    "            val_lst = [old_val,new_val]\n",
    "            df[col] = val_lst\n",
    "    return df"
   ]
  },
  {
   "cell_type": "code",
   "execution_count": null,
   "metadata": {},
   "outputs": [],
   "source": [
    "both_compare_id('')"
   ]
  }
 ],
 "metadata": {
  "kernelspec": {
   "display_name": "Python 3",
   "language": "python",
   "name": "python3"
  },
  "language_info": {
   "codemirror_mode": {
    "name": "ipython",
    "version": 3
   },
   "file_extension": ".py",
   "mimetype": "text/x-python",
   "name": "python",
   "nbconvert_exporter": "python",
   "pygments_lexer": "ipython3",
   "version": "3.11.3"
  }
 },
 "nbformat": 4,
 "nbformat_minor": 2
}
