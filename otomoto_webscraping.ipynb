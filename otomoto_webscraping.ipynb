{
 "cells": [
  {
   "cell_type": "code",
   "execution_count": null,
   "metadata": {},
   "outputs": [],
   "source": [
    "import requests\n",
    "import pandas as pd\n",
    "from bs4 import BeautifulSoup\n",
    "import time\n",
    "import openpyxl\n",
    "import warnings\n",
    "warnings.filterwarnings(\"ignore\")\n",
    "\n",
    "# import http.client\n",
    "# http.client._MAXHEADERS = 1000\n",
    "pd.set_option('display.max_columns', None)"
   ]
  },
  {
   "cell_type": "markdown",
   "metadata": {},
   "source": [
    "Data download works on 01-11-2023, all classes may change over time"
   ]
  },
  {
   "cell_type": "code",
   "execution_count": null,
   "metadata": {},
   "outputs": [],
   "source": [
    "#number of pages\n",
    "main_link = 'https://www.otomoto.pl/osobowe/audi/a5'\n",
    "main_link_r = requests.get(main_link)\n",
    "html_main_link = BeautifulSoup(main_link_r.text, 'html.parser')\n",
    "max_page_nbr = int(html_main_link.find_all('a',{'class':'ooa-xdlax9 e1f09v7o0'})[-1].get_text()) #page navigation at the bottom"
   ]
  },
  {
   "cell_type": "code",
   "execution_count": null,
   "metadata": {},
   "outputs": [],
   "source": [
    "#list of pages links\n",
    "base_link = 'https://www.otomoto.pl/osobowe/audi/a5?page={}'\n",
    "all_pages_links = [base_link.format(i+1) for i in range(max_page_nbr)]"
   ]
  },
  {
   "cell_type": "code",
   "execution_count": null,
   "metadata": {},
   "outputs": [],
   "source": [
    "#all links from one page\n",
    "def links_from_page(input_page_link):\n",
    "    r_get = requests.get(input_page_link)\n",
    "    html = BeautifulSoup(r_get.text, 'html.parser')\n",
    "    page_links_pre = html.find_all('h1',{'class':'ev7e6t89 ooa-1xvnx1e er34gjf0'}) #direct link to single ad\n",
    "    page_ads_links = [lnk.find('a')['href'] for lnk in page_links_pre]\n",
    "\n",
    "    return page_ads_links"
   ]
  },
  {
   "cell_type": "code",
   "execution_count": null,
   "metadata": {},
   "outputs": [],
   "source": [
    "#all links from all pages\n",
    "all_ad_links = []\n",
    "broken_page_link_counter = 0\n",
    "for page_link in all_pages_links: #place to put limit on test\n",
    "    tmp_link = links_from_page(page_link)\n",
    "    counter_page = 0\n",
    "    while tmp_link == [] and counter_page < 20: #second loop due to occasional data download errors\n",
    "        tmp_link = links_from_page(page_link)\n",
    "        counter_page += 1\n",
    "        time.sleep(2)\n",
    "    if counter_page < 20:\n",
    "        all_ad_links += tmp_link\n",
    "    else:\n",
    "        broken_page_link_counter += 1\n",
    "        \n",
    "    time.sleep(1)"
   ]
  },
  {
   "cell_type": "code",
   "execution_count": null,
   "metadata": {},
   "outputs": [],
   "source": [
    "#one feature from ad\n",
    "def one_feature(A,B,html_temp):\n",
    "    try:\n",
    "        feature_name = html_temp.find(A, {'class':B}).get_text()\n",
    "    except:\n",
    "        feature_name = ''\n",
    "    return feature_name"
   ]
  },
  {
   "cell_type": "code",
   "execution_count": null,
   "metadata": {},
   "outputs": [],
   "source": [
    "#all data from one ad\n",
    "def extract_data_from_one_ad_link(ad_link):\n",
    "    r_temp = requests.get(ad_link)\n",
    "    html_temp = BeautifulSoup(r_temp.text, 'html.parser')\n",
    "\n",
    "    #title\n",
    "    title_temp = one_feature('h3','offer-title big-text e1aiyq9b1 ooa-ebtemw er34gjf0',html_temp) #class with title, top right corner\n",
    "    title_temp = title_temp.strip()\n",
    "\n",
    "    #price\n",
    "    price_temp = one_feature('h3','offer-price__number esicnpr5 ooa-17vk29r er34gjf0',html_temp) #class with price, top right corner\n",
    "    price_temp = price_temp.replace('PLN','').strip()\n",
    "\n",
    "    features_dict= {}\n",
    "    features_dict['Tytuł'] = title_temp\n",
    "    features_dict['Cena'] = price_temp\n",
    "    features_dict['Link'] = ad_link\n",
    "\n",
    "    #other features\n",
    "    features = html_temp.find_all('div', {'data-testid':'advert-details-item'}) #class above every feature inside single ad\n",
    "    for feature in features:\n",
    "        feature_name = feature.find('p', {'class':'e1iqsx43 ooa-1h25pzj'}).get_text() #class with name of the single feature\n",
    "        try:\n",
    "            feature_value = feature.find('a', {'class':'e1cl5iuz0 ooa-189feh2'}) #class for feature value presented as links\n",
    "            feature_value = feature_value.get_text().strip()\n",
    "        except:\n",
    "            try:\n",
    "                feature_value = feature.find('p', {'class':'e1cl5iuz1 ooa-ywgrlx er34gjf0'}) #class for feature value presented as text\n",
    "                feature_value = feature_value.get_text().strip()\n",
    "            except:\n",
    "                feature_value = None\n",
    "        features_dict[feature_name] = feature_value\n",
    "    \n",
    "    \n",
    "    return features_dict"
   ]
  },
  {
   "cell_type": "code",
   "execution_count": null,
   "metadata": {},
   "outputs": [],
   "source": [
    "#data from all the ads\n",
    "result_df = pd.DataFrame(columns = ['Tytuł','Cena','Kraj pochodzenia', 'Leasing', 'Pokaż oferty z numerem VIN', 'Wersja', 'Numer rejestracyjny pojazdu', 'Rodzaj koloru', 'lub do (przebieg km)', 'Spalanie W Mieście', 'Kolor', 'Zarejestrowany w Polsce', 'Tuning', 'Bezwypadkowy', 'Moc',\n",
    "'Kategoria', 'Liczba drzwi', 'Tytuł', 'Marka pojazdu', 'Spalanie Poza Miastem', 'Oferta od', 'Faktura VAT', 'Emisja CO2', 'Spalanie W Cyklu Mieszanym', 'Przebieg', ' Pierwszy właściciel (od nowości)', 'Liczba miejsc', 'Data pierwszej rejestracji w historii pojazdu', \n",
    "'Rok produkcji', 'Rodzaj paliwa', 'Pojemność skokowa', 'Miesięczna rata', 'Generacja', 'Stan', 'Skrzynia biegów', 'Opłata początkowa', 'VAT marża', 'Filtr cząstek stałych', 'Serwisowany w ASO', 'Model pojazdu', 'Okres gwarancji producenta', 'Wartość wykupu', \n",
    "'Uszkodzony', 'Ma numer rejestracyjny', 'Hak', 'Typ nadwozia', 'Możliwość finansowania', 'Napęd', 'Liczba pozostałych rat'])\n",
    "\n",
    "broken_link_counter = 0\n",
    "for ad in all_ad_links:\n",
    "    result_df_tmp = pd.DataFrame(columns = ['Tytuł','Cena','Kraj pochodzenia', 'Leasing', 'Pokaż oferty z numerem VIN', 'Wersja', 'Numer rejestracyjny pojazdu', 'Rodzaj koloru', 'lub do (przebieg km)', 'Spalanie W Mieście', 'Kolor', 'Zarejestrowany w Polsce', 'Tuning', 'Bezwypadkowy', 'Moc',\n",
    "    'Kategoria', 'Liczba drzwi', 'Tytuł', 'Marka pojazdu', 'Spalanie Poza Miastem', 'Oferta od', 'Faktura VAT', 'Emisja CO2', 'Spalanie W Cyklu Mieszanym', 'Przebieg', ' Pierwszy właściciel (od nowości)', 'Liczba miejsc', 'Data pierwszej rejestracji w historii pojazdu', \n",
    "    'Rok produkcji', 'Rodzaj paliwa', 'Pojemność skokowa', 'Miesięczna rata', 'Generacja', 'Stan', 'Skrzynia biegów', 'Opłata początkowa', 'VAT marża', 'Filtr cząstek stałych', 'Serwisowany w ASO', 'Model pojazdu', 'Okres gwarancji producenta', 'Wartość wykupu', \n",
    "    'Uszkodzony', 'Ma numer rejestracyjny', 'Hak', 'Typ nadwozia', 'Możliwość finansowania', 'Napęd', 'Liczba pozostałych rat'])\n",
    "    result_df_tmp.loc[0] = None\n",
    "    \n",
    "    tmp_dict = extract_data_from_one_ad_link(ad)\n",
    "    counter_ad = 0\n",
    "    while len(tmp_dict) < 3 and counter_ad < 20: #second loop due to occasional data download errors\n",
    "        tmp_dict = extract_data_from_one_ad_link(ad)\n",
    "        counter_ad += 1\n",
    "        time.sleep(2)\n",
    "\n",
    "    if counter_ad < 20:\n",
    "        for col in result_df_tmp.columns:\n",
    "            try:\n",
    "                result_df_tmp[col] = tmp_dict[col]\n",
    "            except:\n",
    "                result_df_tmp[col] = None\n",
    "        result_df = pd.concat([result_df, result_df_tmp], ignore_index=True)\n",
    "        if len(result_df) %100 == 0:\n",
    "            print(len(result_df))\n",
    "    else:\n",
    "        broken_link_counter += 1\n",
    "\n",
    "    time.sleep(1)"
   ]
  },
  {
   "cell_type": "code",
   "execution_count": null,
   "metadata": {},
   "outputs": [],
   "source": [
    "test = len(all_ad_links) == len(result_df) + broken_link_counter\n",
    "\n",
    "if test == True:\n",
    "    print('OK')\n",
    "else:\n",
    "    print('broken_page_link_counter:',broken_page_link_counter)\n",
    "    print('broken_link_counter:',broken_link_counter)"
   ]
  },
  {
   "cell_type": "code",
   "execution_count": null,
   "metadata": {},
   "outputs": [],
   "source": [
    "result_df.to_excel('otomoto_v2.xlsx', index = False)"
   ]
  }
 ],
 "metadata": {
  "kernelspec": {
   "display_name": "Python 3",
   "language": "python",
   "name": "python3"
  },
  "language_info": {
   "codemirror_mode": {
    "name": "ipython",
    "version": 3
   },
   "file_extension": ".py",
   "mimetype": "text/x-python",
   "name": "python",
   "nbconvert_exporter": "python",
   "pygments_lexer": "ipython3",
   "version": "3.11.3"
  },
  "orig_nbformat": 4
 },
 "nbformat": 4,
 "nbformat_minor": 2
}
