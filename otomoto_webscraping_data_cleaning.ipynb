{
 "cells": [
  {
   "cell_type": "code",
   "execution_count": null,
   "metadata": {},
   "outputs": [],
   "source": [
    "import pandas as pd\n",
    "import openpyxl\n",
    "import warnings\n",
    "warnings.filterwarnings(\"ignore\")\n",
    "\n",
    "pd.set_option('display.max_columns', None)\n",
    "pd.set_option('display.max_rows', 20)"
   ]
  },
  {
   "cell_type": "code",
   "execution_count": null,
   "metadata": {},
   "outputs": [],
   "source": [
    "df = pd.read_excel('otomoto_v2.xlsx')"
   ]
  },
  {
   "cell_type": "code",
   "execution_count": null,
   "metadata": {},
   "outputs": [],
   "source": [
    "#pre check\n",
    "df.info()"
   ]
  },
  {
   "cell_type": "code",
   "execution_count": null,
   "metadata": {},
   "outputs": [],
   "source": [
    "#filtering out\n",
    "df = df[~df['Link'].str.contains('https://carsmile.pl')]\n",
    "df = df.dropna(subset=['Cena']) #invalid ads"
   ]
  },
  {
   "cell_type": "code",
   "execution_count": null,
   "metadata": {},
   "outputs": [],
   "source": [
    "#irrelevant data\n",
    "cols_to_drop = ['Homologacja ciężarowa','Spalanie W Cyklu Mieszanym','Wartość wykupu','Liczba pozostałych rat','Opłata początkowa','Miesięczna rata','lub do (przebieg km)','Okres gwarancji producenta',\n",
    "                'VAT marża','Gwarancja dealerska (w cenie)','Możliwość finansowania','Numer rejestracyjny pojazdu','Spalanie Poza Miastem','Emisja CO2','Spalanie W Mieście']\n",
    "df.drop(cols_to_drop, axis=1, inplace= True)"
   ]
  },
  {
   "cell_type": "code",
   "execution_count": null,
   "metadata": {},
   "outputs": [],
   "source": [
    "#no if not mentioned\n",
    "true_false_cols = ['Uszkodzony','Leasing','Tuning',' Pierwszy właściciel (od nowości)','Serwisowany w ASO','Zarejestrowany w Polsce','Faktura VAT','Ma numer rejestracyjny','Pokaż oferty z numerem VIN',\n",
    "                   'Bezwypadkowy','Kierownica po prawej (Anglik)']\n",
    "df[true_false_cols] = df[true_false_cols].fillna('Nie')"
   ]
  },
  {
   "cell_type": "code",
   "execution_count": null,
   "metadata": {},
   "outputs": [],
   "source": [
    "#not specified\n",
    "df[['Wersja','Rodzaj koloru','Kraj pochodzenia','Skrzynia biegów']] = df[['Wersja','Rodzaj koloru','Kraj pochodzenia','Skrzynia biegów']].fillna('Nie podano')"
   ]
  },
  {
   "cell_type": "code",
   "execution_count": null,
   "metadata": {},
   "outputs": [],
   "source": [
    "#generation based on production year\n",
    "df['Generacja'] = df[['Rok produkcji','Generacja']].apply(lambda x: '8T (2007-2016)' if x['Rok produkcji'] <= 2015 else x['Generacja'] if x['Rok produkcji'] == 2016 else 'F5 (2016-)', axis=1)\n",
    "#as 8T gen is majority\n",
    "df['Generacja'] = df['Generacja'].fillna('8T (2007-2016)')"
   ]
  },
  {
   "cell_type": "code",
   "execution_count": null,
   "metadata": {},
   "outputs": [],
   "source": [
    "def mileage(x):\n",
    "    try:\n",
    "        return int(x.replace('km','').replace(' ',''))\n",
    "    except:\n",
    "        return None"
   ]
  },
  {
   "cell_type": "code",
   "execution_count": null,
   "metadata": {},
   "outputs": [],
   "source": [
    "#filling missing mileage with mean value for used cars\n",
    "\n",
    "df['Przebieg'] = df['Przebieg'].map(mileage)\n",
    "df['Przebieg'] = df[['Przebieg','Rok produkcji']].apply(lambda x: 0 if str(x['Przebieg']) == 'nan' and x['Rok produkcji'] == 2023 else x['Przebieg'], axis=1)\n",
    "mean_val = int(df['Przebieg'].mean())\n",
    "df['Przebieg'] = df['Przebieg'].fillna(mean_val)"
   ]
  },
  {
   "cell_type": "code",
   "execution_count": null,
   "metadata": {},
   "outputs": [],
   "source": [
    "#based on technical knowledge\n",
    "df['Napęd'] = df['Napęd'].replace('4x4 (dołączany automatycznie)','4x4 (stały)').replace('4x4 (dołączany ręcznie)','4x4 (stały)').replace('Na tylne koła','Nie określono').fillna('Nie określono')"
   ]
  },
  {
   "cell_type": "code",
   "execution_count": null,
   "metadata": {},
   "outputs": [],
   "source": [
    "#there were only 5 and 2 doors wersions\n",
    "df['Liczba drzwi'] = df['Liczba drzwi'].fillna(5).map(lambda x: 5 if x >= 4 else 2)"
   ]
  },
  {
   "cell_type": "code",
   "execution_count": null,
   "metadata": {},
   "outputs": [],
   "source": [
    "def body_type(type,doors):\n",
    "    if type == 'Kabriolet':\n",
    "        doors = 2\n",
    "    elif doors == 5:\n",
    "        type = 'Sedan'\n",
    "    elif doors == 2:\n",
    "        type = 'Coupe'\n",
    "    return type"
   ]
  },
  {
   "cell_type": "code",
   "execution_count": null,
   "metadata": {},
   "outputs": [],
   "source": [
    "#body type base on doors number and oryginal body type value (cabrio)\n",
    "df['Typ nadwozia'] = df[['Typ nadwozia','Liczba drzwi']].apply(lambda x: body_type(x['Typ nadwozia'],x['Liczba drzwi']) , axis=1)"
   ]
  },
  {
   "cell_type": "code",
   "execution_count": null,
   "metadata": {},
   "outputs": [],
   "source": [
    "#seats number base on body type\n",
    "df['Liczba miejsc'] = df['Typ nadwozia'].map({'Kabriolet': 4, 'Coupe': 4, 'Sedan':5})"
   ]
  },
  {
   "cell_type": "code",
   "execution_count": null,
   "metadata": {},
   "outputs": [],
   "source": [
    "#first registration date same as production year if not mentioned\n",
    "df['Data pierwszej rejestracji w historii pojazdu'] = df[['Data pierwszej rejestracji w historii pojazdu','Rok produkcji']].apply(\n",
    "    lambda x: 'styczeń ' + str(x['Rok produkcji']) if str(x['Data pierwszej rejestracji w historii pojazdu']) == 'nan' else x['Data pierwszej rejestracji w historii pojazdu'], axis=1)"
   ]
  },
  {
   "cell_type": "code",
   "execution_count": null,
   "metadata": {},
   "outputs": [],
   "source": [
    "#data formats\n",
    "df['Cena'] = df['Cena'].str.replace(',','.').str.replace(' ','').astype('float').astype('int')\n",
    "df['Przebieg'] = df['Przebieg'].astype('int')\n",
    "df['Pojemność skokowa'] = df['Pojemność skokowa'].str.replace(' ', '').str.replace('cm3', '').astype('int')\n",
    "df['Moc'] = df['Moc'].str.replace(' KM', '').astype('int')"
   ]
  },
  {
   "cell_type": "code",
   "execution_count": null,
   "metadata": {},
   "outputs": [],
   "source": [
    "#post check\n",
    "df.info()"
   ]
  },
  {
   "cell_type": "code",
   "execution_count": null,
   "metadata": {},
   "outputs": [],
   "source": [
    "#(Yes, No) translation\n",
    "for col in df.columns:\n",
    "    if str(df[col].unique()) == \"['Nie' 'Tak']\" or str(df[col].unique()) == \"['Tak' 'Nie']\":\n",
    "        df[col] = df[col].str.replace('Tak','Yes').replace('Nie','No')"
   ]
  },
  {
   "cell_type": "code",
   "execution_count": null,
   "metadata": {},
   "outputs": [],
   "source": [
    "df.to_excel('otomoto_v2_data_cleaning.xlsx', index = False)"
   ]
  }
 ],
 "metadata": {
  "kernelspec": {
   "display_name": "Python 3",
   "language": "python",
   "name": "python3"
  },
  "language_info": {
   "codemirror_mode": {
    "name": "ipython",
    "version": 3
   },
   "file_extension": ".py",
   "mimetype": "text/x-python",
   "name": "python",
   "nbconvert_exporter": "python",
   "pygments_lexer": "ipython3",
   "version": "3.11.3"
  }
 },
 "nbformat": 4,
 "nbformat_minor": 2
}
